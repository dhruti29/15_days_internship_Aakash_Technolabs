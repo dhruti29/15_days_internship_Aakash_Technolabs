{
 "cells": [
  {
   "cell_type": "code",
   "execution_count": 1,
   "metadata": {},
   "outputs": [
    {
     "name": "stdout",
     "output_type": "stream",
     "text": [
      "Enter first number: 3\n",
      "Enter second number: 4\n",
      "Enter third number: 5\n",
      "Enter four number: 6\n",
      "Enter fifth number: 7\n",
      "The average of numbers = 5.00\n"
     ]
    }
   ],
   "source": [
    "# Calculate average of 5 numbers\n",
    "\n",
    "num1 = float(input('Enter first number: '))\n",
    "num2 = float(input('Enter second number: '))\n",
    "num3 = float(input('Enter third number: '))\n",
    "num4 = float(input('Enter four number: '))\n",
    "num5 = float(input('Enter fifth number: '))\n",
    "\n",
    "# calculate average\n",
    "avg = (num1 + num2 + num3 + num4 + num5) / 5\n",
    "\n",
    "# print average value\n",
    "print('The average of numbers = %0.2f' %avg)"
   ]
  },
  {
   "cell_type": "code",
   "execution_count": 2,
   "metadata": {},
   "outputs": [
    {
     "name": "stdout",
     "output_type": "stream",
     "text": [
      "Enter the Number: \n",
      "45\n",
      "\n",
      "It is an Odd Number\n"
     ]
    }
   ],
   "source": [
    "# Check whether number is even or odd.\n",
    "\n",
    "\n",
    "print(\"Enter the Number: \")\n",
    "num = int(input())\n",
    "if num%2==0:\n",
    "    print(\"\\nIt is an Even Number\")\n",
    "else:\n",
    "    print(\"\\nIt is an Odd Number\")"
   ]
  },
  {
   "cell_type": "code",
   "execution_count": 3,
   "metadata": {},
   "outputs": [
    {
     "name": "stdout",
     "output_type": "stream",
     "text": [
      "Please Enter the Year Number you wish: 1600\n",
      "1600 is a Leap Year\n"
     ]
    }
   ],
   "source": [
    "# Take a year and check whether it is leap year or not\n",
    "\n",
    "\n",
    "year = int(input(\"Please Enter the Year Number you wish: \"))\n",
    "\n",
    "if (( year%400 == 0)or (( year%4 == 0 ) and ( year%100 != 0))):\n",
    "    print(\"%d is a Leap Year\" %year)\n",
    "else:\n",
    "    print(\"%d is Not the Leap Year\" %year)"
   ]
  },
  {
   "cell_type": "code",
   "execution_count": 4,
   "metadata": {},
   "outputs": [
    {
     "name": "stdout",
     "output_type": "stream",
     "text": [
      "Enter a number: 45\n",
      "Positive number\n"
     ]
    }
   ],
   "source": [
    "# Take a number and check whether it is zero, positive or negative.\n",
    "num = float(input(\"Enter a number: \"))\n",
    "if num > 0:\n",
    "   print(\"Positive number\")\n",
    "elif num == 0:\n",
    "   print(\"Zero\")\n",
    "else:\n",
    "   print(\"Negative number\")"
   ]
  },
  {
   "cell_type": "code",
   "execution_count": 5,
   "metadata": {},
   "outputs": [
    {
     "name": "stdout",
     "output_type": "stream",
     "text": [
      " Please Enter the First Value a: 44\n",
      " Please Enter the Second Value b: 44\n",
      "equal\n"
     ]
    }
   ],
   "source": [
    "# Program to find Largest of Two Numbers\n",
    "a = float(input(\" Please Enter the First Value a: \"))\n",
    "b = float(input(\" Please Enter the Second Value b: \"))\n",
    "\n",
    "if(a==b):\n",
    "    print(\"equal\")\n",
    "\n",
    "elif(a > b):\n",
    "    print(\"{0} is Greater than {1}\".format(a, b))\n",
    "elif(b > a):\n",
    "    print(\"{0} is Greater than {1}\".format(b, a))\n",
    "else:\n",
    "    print(\"Both a and b are Equal\")"
   ]
  },
  {
   "cell_type": "code",
   "execution_count": 6,
   "metadata": {},
   "outputs": [
    {
     "name": "stdout",
     "output_type": "stream",
     "text": [
      "Enter a number: 4\n",
      "The factorial of 4 is 24\n"
     ]
    }
   ],
   "source": [
    "# Take a number and find factorial of that number.\n",
    "# Python program to find the factorial of a number provided by the user.\n",
    "\n",
    "# change the value for a different result\n",
    "#num = 7\n",
    "\n",
    "# To take input from the user\n",
    "num = int(input(\"Enter a number: \"))\n",
    "\n",
    "factorial = 1\n",
    "\n",
    "# check if the number is negative, positive or zero\n",
    "if num < 0:\n",
    "   print(\"Sorry, factorial does not exist for negative numbers\")\n",
    "elif num == 0:\n",
    "   print(\"The factorial of 0 is 1\")\n",
    "else:\n",
    "   for i in range(1,num + 1):\n",
    "       factorial = factorial*i\n",
    "   print(\"The factorial of\",num,\"is\",factorial)\n"
   ]
  },
  {
   "cell_type": "code",
   "execution_count": 7,
   "metadata": {},
   "outputs": [
    {
     "name": "stdout",
     "output_type": "stream",
     "text": [
      "Enter first number = 4\n",
      "Enter second number = 3\n",
      "First Number =  4\n",
      "Second Number =  3\n",
      "After swapping using a temp variable\n",
      "First Number Now =  3\n",
      "Second Number Now =  4\n"
     ]
    }
   ],
   "source": [
    "# Write a program to swap 2 numbers using third variable.\n",
    "\n",
    "firstNum = input(\"Enter first number = \")\n",
    "secondNum = input(\"Enter second number = \")\n",
    "print(\"First Number = \", firstNum)\n",
    "print(\"Second Number = \", secondNum)\n",
    "print(\"After swapping using a temp variable\")\n",
    "\n",
    "#code to swap two numbers using a third variable\n",
    "\n",
    "xyz = firstNum\n",
    "firstNum = secondNum\n",
    "secondNum = xyz\n",
    "\n",
    "print(\"First Number Now = \", firstNum)\n",
    "print(\"Second Number Now = \", secondNum)"
   ]
  },
  {
   "cell_type": "code",
   "execution_count": 8,
   "metadata": {},
   "outputs": [
    {
     "name": "stdout",
     "output_type": "stream",
     "text": [
      "Enter your first number:3\n",
      "Enter your second number: 2\n",
      "2 is smallest\n"
     ]
    }
   ],
   "source": [
    "# Take 2 numbers and find smallest number.\n",
    "\n",
    "num1=int(input(\"Enter your first number:\"))\n",
    "num2=int(input(\"Enter your second number: \"))\n",
    "if(num1<num2):\n",
    "    print(\"{} is smallest\".format(num1))\n",
    "elif(num2<num1):\n",
    "    print(\"{} is smallest\".format(num2))\n",
    "else:\n",
    "    print(\"{} and {} are equal\".format(num1,num2))"
   ]
  },
  {
   "cell_type": "code",
   "execution_count": 11,
   "metadata": {},
   "outputs": [
    {
     "name": "stdout",
     "output_type": "stream",
     "text": [
      "Enter a number: 32\n",
      "32 is Even\n"
     ]
    }
   ],
   "source": [
    "# Take a number check if a number is less than 100 or not. If it is less than 100 then check if it is odd or even.\n",
    "\n",
    "num = int(input(\"Enter a number: \"))\n",
    "if num < 100:\n",
    "    if (num % 2) == 0:\n",
    "       print(\"{0} is Even\".format(num))\n",
    "    else:\n",
    "       print(\"{0} is Odd\".format(num))\n"
   ]
  },
  {
   "cell_type": "code",
   "execution_count": 14,
   "metadata": {},
   "outputs": [
    {
     "name": "stdout",
     "output_type": "stream",
     "text": [
      " Please Enter any numeric Value : 12\n"
     ]
    }
   ],
   "source": [
    "# Take a number to print the square of a number if it is less than 10\n",
    "def square(num):\n",
    "    return num * num\n",
    "\n",
    "number = float(input(\" Please Enter any numeric Value : \"))\n",
    "if num < 10:\n",
    "    sqre = square(number)\n",
    "    print(\"The Square of a Given Number {0}  = {1}\".format(number, sqre))"
   ]
  },
  {
   "cell_type": "code",
   "execution_count": 15,
   "metadata": {},
   "outputs": [
    {
     "name": "stdout",
     "output_type": "stream",
     "text": [
      "Enter a number: 0\n",
      "Zero\n"
     ]
    }
   ],
   "source": [
    "# Take a number and check whether it is zero, positive or negative using nested IF…ELSE statement.\n",
    "num = float(input(\"Enter a number: \"))\n",
    "if num >= 0:\n",
    "   if num == 0:\n",
    "       print(\"Zero\")\n",
    "   else:\n",
    "       print(\"Positive number\")\n",
    "else:\n",
    "   print(\"Negative number\")\n"
   ]
  },
  {
   "cell_type": "code",
   "execution_count": 16,
   "metadata": {},
   "outputs": [
    {
     "name": "stdout",
     "output_type": "stream",
     "text": [
      "Enter 1st number : 34\n",
      "\n",
      "Enter 2nd number : 21\n",
      "\n",
      "Enter 3rd number : 45\n",
      "\n",
      "45 is largest number\n"
     ]
    }
   ],
   "source": [
    "# Take 3 numbers and find greatest number using nested IF….ELSE statement.\n",
    "\n",
    "num1 = int(input(\"Enter 1st number : \"))\n",
    "\n",
    "num2 = int(input(\"\\nEnter 2nd number : \"))\n",
    "\n",
    "num3 = int(input(\"\\nEnter 3rd number : \"))\n",
    "\n",
    "# Find largest number\n",
    "if num1 >= num2 :\n",
    "\n",
    "    if num1 >= num3 :\n",
    "        print(\"\\n\" + str(num1), \"is largest number\")\n",
    "    else :\n",
    "        print(\"\\n\" + str(num3), \"is largest number\")\n",
    "    \n",
    "else :\n",
    "\n",
    "    if num2 >= num3 :\n",
    "        print(\"\\n\" + str(num2), \" is largest number\")\n",
    "    else :\n",
    "        print(\"\\n\" + str(num3), \" is largest number\")"
   ]
  },
  {
   "cell_type": "code",
   "execution_count": 17,
   "metadata": {},
   "outputs": [
    {
     "name": "stdout",
     "output_type": "stream",
     "text": [
      "Enter First number : 43\n",
      "Enter Second number : 2\n",
      "Enter Third number : 67\n",
      "The largest of the 3 numbers is :  67\n",
      "The smallest of the 3 numbers is :  2\n"
     ]
    }
   ],
   "source": [
    "# Take 3 numbers and find smallest number using logical operator\n",
    "\n",
    "number1 = int(input('Enter First number : '))\n",
    "number2 = int(input('Enter Second number : '))\n",
    "number3 = int(input('Enter Third number : '))\n",
    "def largest(num1, num2, num3):\n",
    "    if (num1 > num2) and (num1 > num3):\n",
    "        largest_num = num1\n",
    "    elif (num2 > num1) and (num2 > num3):\n",
    "        largest_num = num2\n",
    "    else:\n",
    "        largest_num = num3\n",
    "    print(\"The largest of the 3 numbers is : \", largest_num)\n",
    "def smallest(num1, num2, num3):\n",
    "    if (num1 < num2) and (num1 < num3):\n",
    "        smallest_num = num1\n",
    "    elif (num2 < num1) and (num2 < num3):\n",
    "        smallest_num = num2\n",
    "    else:\n",
    "        smallest_num = num3\n",
    "    print(\"The smallest of the 3 numbers is : \", smallest_num)\n",
    "largest(number1, number2, number3)\n",
    "smallest(number1, number2, number3)"
   ]
  },
  {
   "cell_type": "code",
   "execution_count": 18,
   "metadata": {},
   "outputs": [
    {
     "name": "stdout",
     "output_type": "stream",
     "text": [
      "Before swapping: \n",
      "Value of x :  5  and y :  7\n",
      "After swapping: \n",
      "Value of x :  7  and y :  5\n"
     ]
    }
   ],
   "source": [
    "# Write a program to swap 2 numbers without taking third variable\n",
    "x = 5\n",
    "y = 7\n",
    " \n",
    "print (\"Before swapping: \")\n",
    "print(\"Value of x : \", x, \" and y : \", y)\n",
    " \n",
    "# code to swap 'x' and 'y'\n",
    "x, y = y, x\n",
    " \n",
    "print (\"After swapping: \")\n",
    "print(\"Value of x : \", x, \" and y : \", y)"
   ]
  },
  {
   "cell_type": "code",
   "execution_count": 20,
   "metadata": {},
   "outputs": [
    {
     "name": "stdout",
     "output_type": "stream",
     "text": [
      "enter starting point number:3\n",
      "enter ending number:9\n",
      "3\n",
      "4\n",
      "5\n",
      "6\n",
      "7\n",
      "8\n",
      "9\n"
     ]
    }
   ],
   "source": [
    "# Take starting number and ending number from the user and print following series.\n",
    "s = int(input(\"enter starting point number:\"))\n",
    "e = int(input(\"enter ending number:\"))\n",
    "for i in range(s,e+1):\n",
    "    print(i)"
   ]
  },
  {
   "cell_type": "code",
   "execution_count": null,
   "metadata": {},
   "outputs": [],
   "source": []
  }
 ],
 "metadata": {
  "kernelspec": {
   "display_name": "Python 3",
   "language": "python",
   "name": "python3"
  },
  "language_info": {
   "codemirror_mode": {
    "name": "ipython",
    "version": 3
   },
   "file_extension": ".py",
   "mimetype": "text/x-python",
   "name": "python",
   "nbconvert_exporter": "python",
   "pygments_lexer": "ipython3",
   "version": "3.8.3"
  }
 },
 "nbformat": 4,
 "nbformat_minor": 4
}
